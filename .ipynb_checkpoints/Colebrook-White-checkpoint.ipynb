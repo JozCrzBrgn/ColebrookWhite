{
 "cells": [
  {
   "cell_type": "markdown",
   "metadata": {},
   "source": [
    "# *SOLUCIÓN DE LA ECUACIÓN DE COLEBROOK-WHITE, USANDO NEWTON-RAPHSON EN PYTHON.*"
   ]
  },
  {
   "cell_type": "markdown",
   "metadata": {},
   "source": [
    "## A) DEMOSTRACIÓN GEOMÉTRICA."
   ]
  },
  {
   "attachments": {},
   "cell_type": "markdown",
   "metadata": {},
   "source": [
    "![Geometria](https://user-images.githubusercontent.com/47722525/78464159-173f6980-76a3-11ea-8d8f-433922602437.png)"
   ]
  },
  {
   "cell_type": "markdown",
   "metadata": {},
   "source": [
    "## B) FÓRMULA MATEMÁTICA."
   ]
  },
  {
   "attachments": {},
   "cell_type": "markdown",
   "metadata": {},
   "source": [
    "![FormulaIterativa](https://user-images.githubusercontent.com/47722525/78464166-29210c80-76a3-11ea-963b-c8fed6841c5f.png)"
   ]
  },
  {
   "cell_type": "markdown",
   "metadata": {},
   "source": [
    "## C) APLICACIÓN DE NEWTON-RAPHSON A LA HIDRÁULICA."
   ]
  },
  {
   "cell_type": "markdown",
   "metadata": {},
   "source": [
    "### <font color='blue'>EJEMPLO 1.- SOLUCIÓN DE LA ECUACIÓN DE COLEBROOK-WHITE.</font>"
   ]
  },
  {
   "cell_type": "markdown",
   "metadata": {},
   "source": [
    "### _Encuentre el coeficiente de fricción en una tuberia de PVC usando la ecuación de Colebrook-White si se tiene un número de Reynolds de 312725.502, una rugosidad absoluta de 0.0000015 metros y un diámetro de 150 mm._"
   ]
  },
  {
   "cell_type": "markdown",
   "metadata": {},
   "source": [
    "### SOLUCIÓN."
   ]
  },
  {
   "cell_type": "markdown",
   "metadata": {},
   "source": [
    "### <font color='green'>a) Datos:</font>"
   ]
  },
  {
   "cell_type": "code",
   "execution_count": 30,
   "metadata": {},
   "outputs": [],
   "source": [
    "Numero_de_Reynolds = 312725.502  # adimensional\n",
    "Rugosidad_Absoluta = 0.0000015   # metros\n",
    "Diametro = 0.15                  # metros"
   ]
  },
  {
   "cell_type": "markdown",
   "metadata": {},
   "source": [
    "### <font color='green'>b) Diagrama de flujo:</font>"
   ]
  },
  {
   "cell_type": "markdown",
   "metadata": {},
   "source": [
    "### Para el diagrama de flujo se usará la ecuación de Colebrook-White:"
   ]
  },
  {
   "attachments": {},
   "cell_type": "markdown",
   "metadata": {},
   "source": [
    "![colwht](https://user-images.githubusercontent.com/47722525/78464149-03940300-76a3-11ea-8019-b7848968eca3.png)"
   ]
  },
  {
   "cell_type": "markdown",
   "metadata": {},
   "source": [
    "### Esta ecuación para propositos de uso del método de Newton-Raphson se escribirá como sigue:"
   ]
  },
  {
   "attachments": {},
   "cell_type": "markdown",
   "metadata": {},
   "source": [
    "![Aplicacion](https://user-images.githubusercontent.com/47722525/78464162-26beb280-76a3-11ea-9b89-d80883b011e4.png)"
   ]
  },
  {
   "cell_type": "markdown",
   "metadata": {},
   "source": [
    "### El diagrama de flujo quedaría como:"
   ]
  },
  {
   "attachments": {},
   "cell_type": "markdown",
   "metadata": {},
   "source": [
    "![DiagramaDeFlujo](https://user-images.githubusercontent.com/47722525/78464099-7d77bc80-76a2-11ea-9f9c-c99dfd1dc8ae.png)"
   ]
  },
  {
   "cell_type": "markdown",
   "metadata": {},
   "source": [
    "### <font color='green'>c) Programación de la ecuación Colebrook-White.</font>"
   ]
  },
  {
   "cell_type": "code",
   "execution_count": 31,
   "metadata": {},
   "outputs": [],
   "source": [
    "# Librerias.\n",
    "import math\n",
    "import matplotlib.pyplot as plt\n",
    "\n",
    "# Función.\n",
    "def Colebrook_White(Re,ks,d):\n",
    "    '''\n",
    "    (Re,ks,d) -> f\n",
    "    \n",
    "    Devuelve el factor de fricción con la ecuacion de Colebrook-White.\n",
    "    \n",
    "    Debido a que la ecuación de Colebrook-White es una función compleja, se\n",
    "    requiere del uso de un método numérico para encontrar el valor de la \n",
    "    fricción, es por eso que se usó el método de Newton-Raphson.\n",
    "\n",
    "    Inputs:\n",
    "    Re -- Número de Reynols.\n",
    "    ks -- Rugosidad Absoluta del material (mts). \n",
    "    d  -- Diámetro de la tubería (mts).\n",
    "    \n",
    "    Output:\n",
    "    f = Fricción.\n",
    "    \n",
    "    Programó:\n",
    "    Ing. Josue Emmanuel Cruz Barragan\n",
    "    '''\n",
    "    \n",
    "    tol = 0.0001 # Tolerancia\n",
    "    error = 100 # Error inicial\n",
    "    \n",
    "    # Logaritmo base 10\n",
    "    def Log(var):\n",
    "        return math.log10(var)\n",
    "    \n",
    "    # Logaritmo natural\n",
    "    def Ln(var):\n",
    "        return math.log(var)\n",
    "    \n",
    "    # Ecuación de Colebrok-White\n",
    "    def Fricc(Re,ks,d,f):\n",
    "        a = ks/(3.7*d)\n",
    "        b = 2.51*f/Re\n",
    "        return -2*Log(a+b)-f\n",
    "    \n",
    "    # Derivada de la ecuación de Colebrok-White\n",
    "    def Fricc_p(Re,ks,d,f):\n",
    "        a = -2/Ln(10)\n",
    "        b = ks/(3.7*d)\n",
    "        c = 2.51*f/Re\n",
    "        d = 2.51/Re\n",
    "        return (a*d/(b+c))-1\n",
    "    \n",
    "    if Re >= 2200:\n",
    "        # Aplicación del método de Newton-Raphson\n",
    "        Gerr = [100]\n",
    "        while error >= tol:\n",
    "            if error == 100:\n",
    "                x1 = 1/math.sqrt(0.001)\n",
    "            Fxp = Fricc_p(Re,ks,d,x1)\n",
    "            Fx = Fricc(Re,ks,d,x1)\n",
    "            x2 = x1 - (Fx/Fxp)\n",
    "            error = abs((x2-x1)/x2)*100\n",
    "            Gerr.append(error)\n",
    "            x1 = x2\n",
    "        return 1/(x1**2),Gerr\n",
    "    else:\n",
    "        return 64/Re\n",
    "    "
   ]
  },
  {
   "cell_type": "markdown",
   "metadata": {},
   "source": [
    "### <font color='green'>d) Resultado.</font>"
   ]
  },
  {
   "cell_type": "code",
   "execution_count": 32,
   "metadata": {},
   "outputs": [
    {
     "name": "stdout",
     "output_type": "stream",
     "text": [
      "Fricción = 0.01446\n"
     ]
    }
   ],
   "source": [
    "[CW,Ge] = Colebrook_White(Numero_de_Reynolds,Rugosidad_Absoluta,Diametro)\n",
    "print(\"Fricción = {}\".format(round(CW,5)))"
   ]
  },
  {
   "cell_type": "markdown",
   "metadata": {},
   "source": [
    "### <font color='green'>e) Gráfica del error relativo.</font>"
   ]
  },
  {
   "cell_type": "code",
   "execution_count": 33,
   "metadata": {},
   "outputs": [
    {
     "data": {
      "image/png": "[encoded data removed]",
      "text/plain": [
       "<Figure size 432x288 with 1 Axes>"
      ]
     },
     "metadata": {
      "needs_background": "light"
     },
     "output_type": "display_data"
    }
   ],
   "source": [
    "plt.plot(Ge)\n",
    "plt.title('Método de Newton-Raphson')\n",
    "plt.xlabel('Iteraciones')\n",
    "plt.ylabel('Error')\n",
    "plt.axis([0, 6, 0, 320])\n",
    "plt.show()"
   ]
  },
  {
   "cell_type": "markdown",
   "metadata": {},
   "source": [
    "### <font color='blue'>EJEMPLO 2.- CÁLCULO DE LA POTENCIA DE UNA  BOMBA.</font>"
   ]
  },
  {
   "cell_type": "markdown",
   "metadata": {},
   "source": [
    "## _En un sistema de riego localizado de alta frecuencia para un cultivo de cítricos se requiere mover un caudal de agua de 42 L/s desde el sitio de toma a la planta de fertirrigación. Estos dos puntos se encuentran separados por una distancia de 970m, estando la planta 16m por encima de la toma. Si existe una tubería de PVC (ks = 1.5x10-6 m) de 150mm de diámetro nominal, con un coeficiente global de pérdidas menores de 9.4, ¿Cúal es la altura piezométrica que ddebe ser suministrada por la bomba en el sitio de toma?, ¿Cúal es la potencia?. Para el agua u = 1.14x10-6 m2/s y p = 999.1 kg/m3._"
   ]
  },
  {
   "cell_type": "markdown",
   "metadata": {},
   "source": [
    "### SOLUCIÓN."
   ]
  },
  {
   "cell_type": "markdown",
   "metadata": {},
   "source": [
    "### <font color='green'>a) Datos:</font>"
   ]
  },
  {
   "cell_type": "code",
   "execution_count": 34,
   "metadata": {},
   "outputs": [],
   "source": [
    "Q = 42            # Caudal que se pretende mover, L/s.\n",
    "d = 150           # Diametro de la tuberia, mm.\n",
    "ks = 1.5*10**-6   # Rugosidad absoluta de la tuberia de PVC, mts.\n",
    "km = 9.4          # Coeficiente de pérdidas menores.\n",
    "L = 970           # Longitud de la tubería, mts.\n",
    "u = 1.14*10**-6   # Viscocidad cinemática, m2/s.\n",
    "p = 999.1         # Densidad del agua, kg/m3\n",
    "z2 = 16           # Diferencia de alturas entre la planta y la toma, mts."
   ]
  },
  {
   "cell_type": "markdown",
   "metadata": {},
   "source": [
    "### <font color='green'>b) Diagrama de Flujo:</font>"
   ]
  },
  {
   "attachments": {},
   "cell_type": "markdown",
   "metadata": {},
   "source": [
    "![DiagFlujoBomba](https://user-images.githubusercontent.com/47722525/78464215-afd5e980-76a3-11ea-9656-6f7a269b22cb.png)"
   ]
  },
  {
   "cell_type": "markdown",
   "metadata": {},
   "source": [
    "### <font color='green'>c) Programación:</font>"
   ]
  },
  {
   "cell_type": "code",
   "execution_count": 35,
   "metadata": {},
   "outputs": [],
   "source": [
    "# Librerias.\n",
    "import math\n",
    "import matplotlib.pyplot as plt\n",
    "\n",
    "# Función.\n",
    "def PotenciaRequerida(Q,L,d,ks,km,p,u,z2,n):\n",
    "    '''\n",
    "    Devuelve la potencia necesaria para mover un caudal determinado a través de una tubería.\n",
    "    \n",
    "    Este tipo de problema se plantea cuando se quiere utilizar una tubería existente para mover\n",
    "    un cierto caudal demandado y se desea conocer la bomba que debe ser colocada o la diferencia\n",
    "    de nivel entre la entrada y la salida de la tubería.\n",
    "\n",
    "    Inputs:\n",
    "    Q  -- Caudal (m^3/s).\n",
    "    L  -- Longitud de la tubería (mts). \n",
    "    d  -- Diámetro de la tubería (mts).\n",
    "    ks -- Rugosidad Absoluta del material (mts).\n",
    "    km -- Coeficiente de Pérdidas Menores.\n",
    "    p  -- Densidad del fluido (kg/m^3).\n",
    "    u  -- Viscocidad cinemática (m^2/s).\n",
    "    z2 -- Cota topográfica (mts).\n",
    "    n  -- Eficiencia de la bomba.\n",
    "    \n",
    "    Output:\n",
    "    P = Potencia necesaria para mover un caudal determinado a través de una tubería (Kilo-watts).\n",
    "\n",
    "    Programó:\n",
    "    Ing. Josue Emmanuel Cruz Barragan\n",
    "    '''\n",
    "    \n",
    "    g = 9.807\n",
    "    \n",
    "    def Reynolds(Q,d,u):\n",
    "        V = Velocidad(Q,d) \n",
    "        return V*d/u\n",
    "    \n",
    "    def Velocidad(Q,d):\n",
    "        return Q/(0.25*math.pi*(d**2))\n",
    "    \n",
    "    def Suma_hm(V,km,g):\n",
    "        return km*(V**2)/(2*g)\n",
    "    \n",
    "    def Colebrook_White(Re,ks,d):\n",
    "        tol = 0.001\n",
    "        error = 100\n",
    "\n",
    "        def Log(var):\n",
    "            return math.log10(var)\n",
    "\n",
    "        def Ln(var):\n",
    "            return math.log(var)\n",
    "\n",
    "        def Fricc(Re,ks,d,f):\n",
    "            a = ks/(3.7*d)\n",
    "            b = 2.51*f/Re\n",
    "\n",
    "            return -2*Log(a+b)-f\n",
    "\n",
    "        def Fricc_p(Re,ks,d,f):\n",
    "            a = -2/Ln(10)\n",
    "            b = ks/(3.7*d)\n",
    "            c = 2.51*f/Re\n",
    "            d = 2.51/Re\n",
    "            return (a*d/(b+c))-1\n",
    "        \n",
    "        if Re >= 2200:\n",
    "            # Aplicación del método de Newton-Raphson\n",
    "            Gerr = [100]\n",
    "            while error >= tol:\n",
    "                if error == 100:\n",
    "                    x1 = 1/math.sqrt(0.001)\n",
    "                Fxp = Fricc_p(Re,ks,d,x1)\n",
    "                Fx = Fricc(Re,ks,d,x1)\n",
    "                x2 = x1 - (Fx/Fxp)\n",
    "                error = abs((x2-x1)/x2)*100\n",
    "                Gerr.append(error)\n",
    "                x1 = x2\n",
    "            return 1/(x1**2),Gerr\n",
    "        else:\n",
    "            return 64/Re\n",
    "\n",
    "            \n",
    "    def Perd_friccion(f,L,V,d,g):\n",
    "        return f*L*(V**2)/(2*g*d)\n",
    "            \n",
    "    def H_tot(z2,hf,Shm):\n",
    "        return z2+hf+Shm \n",
    "    \n",
    "    Re = Reynolds(Q,d,u)\n",
    "    V = Velocidad(Q,d)\n",
    "    Shm = Suma_hm(V,km,g)\n",
    "    f,Ge = Colebrook_White(Re,ks,d)\n",
    "    hf = Perd_friccion(f,L,V,d,g)\n",
    "    H = H_tot(z2,hf,Shm)\n",
    "            \n",
    "    return p*Q*g*H/(n*10),H\n"
   ]
  },
  {
   "cell_type": "markdown",
   "metadata": {},
   "source": [
    "### <font color='green'>d) Resultado para una bomba con 100% de eficiencia:</font>"
   ]
  },
  {
   "cell_type": "code",
   "execution_count": 36,
   "metadata": {},
   "outputs": [
    {
     "name": "stdout",
     "output_type": "stream",
     "text": [
      "La altura piezométrica que debe suministrar la bomba en el sitio de toma es de 45.63 metros\n",
      "Para una eficiencia del 100% se requiere una potencia de 18.78 kW\n"
     ]
    }
   ],
   "source": [
    "''' Sustituyendo '''\n",
    "[P,H] = PotenciaRequerida(0.042,970,0.15,1.5*10**-6,9.4,999.1,1.14*10**-6,16,100)\n",
    "print(\"La altura piezométrica que debe suministrar la bomba en el sitio de toma es de {} metros\".format(round(H,2)))\n",
    "print(\"Para una eficiencia del 100% se requiere una potencia de {} kW\".format(round(P,2)))"
   ]
  },
  {
   "cell_type": "markdown",
   "metadata": {},
   "source": [
    "### <font color='green'>e) Gráfica Potencia-Eficiencia</font>"
   ]
  },
  {
   "cell_type": "code",
   "execution_count": 37,
   "metadata": {},
   "outputs": [
    {
     "data": {
      "image/png": "[encoded data removed]",
      "text/plain": [
       "<Figure size 432x288 with 1 Axes>"
      ]
     },
     "metadata": {
      "needs_background": "light"
     },
     "output_type": "display_data"
    }
   ],
   "source": [
    "e = [10,20,30,40,50,60,70,80,90,100]\n",
    "p = []\n",
    "for i in range(len(e)):\n",
    "    p.append(PotenciaRequerida(0.042,970,0.15,1.5*10**-6,9.4,999.1,1.14*10**-6,16,e[i])[0])\n",
    "plt.plot(e,p)\n",
    "plt.title('Gráfica Potencia vs Eficiencia')\n",
    "plt.xlabel('Eficiencia (%)')\n",
    "plt.ylabel('Potencia (kW)')\n",
    "plt.axis([10, 100, 0, 190])\n",
    "plt.show()"
   ]
  },
  {
   "cell_type": "markdown",
   "metadata": {},
   "source": [
    "### En la gráfica se observa como mientras mejor sea la eficiencia de la bomba menor potencia se necesita para mover el caudal"
   ]
  }
 ],
 "metadata": {
  "kernelspec": {
   "display_name": "Python 3",
   "language": "python",
   "name": "python3"
  },
  "language_info": {
   "codemirror_mode": {
    "name": "ipython",
    "version": 3
   },
   "file_extension": ".py",
   "mimetype": "text/x-python",
   "name": "python",
   "nbconvert_exporter": "python",
   "pygments_lexer": "ipython3",
   "version": "3.7.0"
  }
 },
 "nbformat": 4,
 "nbformat_minor": 2
}
